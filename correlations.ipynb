{
 "cells": [
  {
   "cell_type": "code",
   "execution_count": 1,
   "metadata": {
    "pycharm": {
     "name": "#%%\n"
    }
   },
   "outputs": [],
   "source": [
    "import pylab as plt\n",
    "import seaborn as sns\n",
    "import pandas as pd\n",
    "import numpy as np\n",
    "from process_data import process_data"
   ]
  },
  {
   "cell_type": "code",
   "execution_count": 2,
   "metadata": {
    "pycharm": {
     "name": "#%%\n"
    }
   },
   "outputs": [],
   "source": [
    "# Returns the columnn names and the data\n",
    "cols, data = process_data(\"bld2.csv\")"
   ]
  },
  {
   "cell_type": "code",
   "execution_count": 4,
   "metadata": {
    "pycharm": {
     "name": "#%%\n"
    }
   },
   "outputs": [],
   "source": [
    "# Uncomment for heatmap\n",
    "# plt.figure(dpi = 300, figsize = (50, 50))\n",
    "# sns.heatmap(data.corr(), annot=True, cmap = 'bwr', center = 0);\n",
    "# plt.title(\"Heatmap of all the Features of Train data set\", fontsize = 25);"
   ]
  },
  {
   "cell_type": "code",
   "execution_count": 5,
   "metadata": {
    "pycharm": {
     "name": "#%%\n"
    }
   },
   "outputs": [
    {
     "name": "stdout",
     "output_type": "stream",
     "text": [
      "Correlation For: ZONE B:Zone Mean Air Temperature [C](TimeStep)\n"
     ]
    },
    {
     "data": {
      "text/plain": [
       "ZONE C BASEBOARD:Baseboard Total Heating Rate [W](TimeStep)                     -0.550131\n",
       "Environment:Site Outdoor Air Relative Humidity [%](TimeStep)                    -0.538564\n",
       "ZONE B BASEBOARD:Baseboard Total Heating Rate [W](TimeStep)                     -0.502421\n",
       "ZONE A BASEBOARD:Baseboard Total Heating Rate [W](TimeStep)                     -0.485668\n",
       "PURCHASED HEATING:District Heating Outlet Temperature [C](TimeStep)             -0.478461\n",
       "ZONE C BASEBOARD:Baseboard Hot Water Mass Flow Rate [kg/s](TimeStep)            -0.435011\n",
       "PURCHASED HEATING:District Heating Mass Flow Rate [kg/s](TimeStep)              -0.414729\n",
       "ZONE B BASEBOARD:Baseboard Hot Water Mass Flow Rate [kg/s](TimeStep)            -0.385118\n",
       "ZONE C:Zone Thermostat Cooling Setpoint Temperature [C](TimeStep)               -0.365515\n",
       "ZONE A:Zone Thermostat Cooling Setpoint Temperature [C](TimeStep)               -0.365515\n",
       "ZONE B:Zone Thermostat Cooling Setpoint Temperature [C](TimeStep)               -0.365515\n",
       "ZONE A BASEBOARD:Baseboard Hot Water Mass Flow Rate [kg/s](TimeStep)            -0.333994\n",
       "Environment:Site Wind Direction [deg](TimeStep)                                 -0.024630\n",
       "ZONE C BASEBOARD:Baseboard Air Outlet Temperature [C](TimeStep)                  0.072162\n",
       "ZONE B BASEBOARD:Baseboard Air Outlet Temperature [C](TimeStep)                  0.158228\n",
       "Environment:Site Wind Speed [m/s](TimeStep)                                      0.177756\n",
       "ZONE A:Zone Thermostat Heating Setpoint Temperature [C](TimeStep)                0.365515\n",
       "ZONE B:Zone Thermostat Heating Setpoint Temperature [C](TimeStep)                0.365515\n",
       "ZONE C:Zone Thermostat Heating Setpoint Temperature [C](TimeStep)                0.365515\n",
       "ZONE A BASEBOARD:Baseboard Air Outlet Temperature [C](TimeStep)                  0.373107\n",
       "ZONE C:Zone People Occupant Count [](TimeStep)                                   0.424780\n",
       "ZONE B:Zone People Occupant Count [](TimeStep)                                   0.424780\n",
       "ZONE A:Zone People Occupant Count [](TimeStep)                                   0.424780\n",
       "ZONE A WINDAC:Zone Window Air Conditioner Electricity Rate [W](TimeStep)         0.438993\n",
       "ZONE A WINDACFAN:Fan Electricity Rate [W](TimeStep)                              0.440864\n",
       "Environment:Site Direct Solar Radiation Rate per Area [W/m2](TimeStep)           0.446421\n",
       "ZONE A WINDAC:Zone Window Air Conditioner Sensible Cooling Rate [W](TimeStep)    0.448755\n",
       "Environment:Site Diffuse Solar Radiation Rate per Area [W/m2](TimeStep)          0.454932\n",
       "ZONE B WINDAC:Zone Window Air Conditioner Electricity Rate [W](TimeStep)         0.457769\n",
       "ZONE B WINDACFAN:Fan Electricity Rate [W](TimeStep)                              0.458129\n",
       "ZONE C WINDACFAN:Fan Electricity Rate [W](TimeStep)                              0.459268\n",
       "ZONE C WINDAC:Zone Window Air Conditioner Electricity Rate [W](TimeStep)         0.459627\n",
       "ZONE C WINDAC:Zone Window Air Conditioner Sensible Cooling Rate [W](TimeStep)    0.463769\n",
       "ZONE B WINDAC:Zone Window Air Conditioner Sensible Cooling Rate [W](TimeStep)    0.464156\n",
       "ZONE B BASEBOARD:Baseboard Water Outlet Temperature [C](TimeStep)                0.543632\n",
       "ZONE C BASEBOARD:Baseboard Water Outlet Temperature [C](TimeStep)                0.565079\n",
       "ZONE A BASEBOARD:Baseboard Water Outlet Temperature [C](TimeStep)                0.590850\n",
       "Environment:Site Outdoor Air Drybulb Temperature [C](TimeStep)                   0.854332\n",
       "ZONE C:Zone Mean Air Temperature [C](TimeStep)                                   0.970203\n",
       "ZONE A:Zone Mean Air Temperature [C](TimeStep)                                   0.992507\n",
       "ZONE B:Zone Mean Air Temperature [C](TimeStep)                                   1.000000\n",
       "Name: ZONE B:Zone Mean Air Temperature [C](TimeStep), dtype: float64"
      ]
     },
     "execution_count": 5,
     "metadata": {},
     "output_type": "execute_result"
    }
   ],
   "source": [
    "# For a particular feature, we can see the correlation with other features\n",
    "idx = 10\n",
    "print('Correlation For:', cols[idx])\n",
    "((data.corr())[cols[idx]]).sort_values()"
   ]
  },
  {
   "cell_type": "code",
   "execution_count": null,
   "metadata": {
    "pycharm": {
     "name": "#%%\n"
    }
   },
   "outputs": [],
   "source": []
  }
 ],
 "metadata": {
  "kernelspec": {
   "display_name": "cuttingedge",
   "language": "python",
   "name": "python3"
  },
  "language_info": {
   "codemirror_mode": {
    "name": "ipython",
    "version": 3
   },
   "file_extension": ".py",
   "mimetype": "text/x-python",
   "name": "python",
   "nbconvert_exporter": "python",
   "pygments_lexer": "ipython3",
   "version": "3.9.13"
  },
  "orig_nbformat": 4,
  "vscode": {
   "interpreter": {
    "hash": "4de6a45db83da0b758db7d08be5de2783b8b59abffac295330c3911b6a615d7b"
   }
  }
 },
 "nbformat": 4,
 "nbformat_minor": 2
}