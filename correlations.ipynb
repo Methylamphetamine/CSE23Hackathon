{
 "cells": [
  {
   "cell_type": "code",
   "execution_count": 1,
   "metadata": {},
   "outputs": [],
   "source": [
    "import pylab as plt\n",
    "import seaborn as sns\n",
    "from process_data import process_data"
   ]
  },
  {
   "cell_type": "code",
   "execution_count": 2,
   "metadata": {},
   "outputs": [
    {
     "name": "stderr",
     "output_type": "stream",
     "text": [
      "/scratch/shyamss/git_repos/CSE23Hackathon/process_data.py:9: DtypeWarning: Columns (10,14,20,22,35,36,37,38,39,40,41,42,43,44,46,48) have mixed types. Specify dtype option on import or set low_memory=False.\n",
      "  data = pd.read_csv(filename)\n"
     ]
    }
   ],
   "source": [
    "# Returns the columnn names and the data\n",
    "cols, data = process_data(\"bld1.csv\")"
   ]
  },
  {
   "cell_type": "code",
   "execution_count": 3,
   "metadata": {},
   "outputs": [],
   "source": [
    "# Uncomment for heatmap\n",
    "# plt.figure(dpi = 300, figsize = (50, 50))\n",
    "# sns.heatmap(data.corr(), annot=True, cmap = 'bwr', center = 0);\n",
    "# plt.title(\"Heatmap of all the Features of Train data set\", fontsize = 25);"
   ]
  },
  {
   "cell_type": "code",
   "execution_count": 4,
   "metadata": {},
   "outputs": [
    {
     "name": "stdout",
     "output_type": "stream",
     "text": [
      "Correlation For: LIVING ZONE:Zone Air Temperature [C](TimeStep)\n"
     ]
    },
    {
     "data": {
      "text/plain": [
       "LIVING ZONE:Zone Thermostat Cooling Setpoint Temperature [C](TimeStep)                       -0.100196\n",
       "Environment:Site Wind Direction [deg](TimeStep)                                              -0.073675\n",
       "Environment:Site Total Sky Cover [](TimeStep)                                                -0.023650\n",
       "LIVING ZONE:Zone People Occupant Count [](TimeStep)                                           0.019774\n",
       "Environment:Site Wind Speed [m/s](TimeStep)                                                   0.025622\n",
       "FURNACEAC1 COOLING COIL:Cooling Coil Latent Cooling Rate [W](TimeStep)                        0.038257\n",
       "FURNACEAC2 COOLING COIL:Cooling Coil Latent Cooling Rate [W](TimeStep)                        0.052737\n",
       "FURNACEAC2 HEATING COIL:Heating Coil Heating Rate [W](TimeStep)                               0.061584\n",
       "FURNACEAC2 HEATING COIL:Heating Coil NaturalGas Rate [W](TimeStep)                            0.061584\n",
       "FURNACEAC2 HEATING COIL:Heating Coil Runtime Fraction [](TimeStep)                            0.061595\n",
       "FURNACEAC1 HEATING COIL:Heating Coil NaturalGas Rate [W](TimeStep)                            0.062063\n",
       "FURNACEAC1 HEATING COIL:Heating Coil Heating Rate [W](TimeStep)                               0.062063\n",
       "FURNACEAC1 HEATING COIL:Heating Coil Runtime Fraction [](TimeStep)                            0.062079\n",
       "LIVING ZONE AIR TERMINAL 2 ADU:Zone Air Terminal Sensible Heating Rate [W](TimeStep)          0.062428\n",
       "LIVING ZONE:Zone Air System Sensible Heating Rate [W](TimeStep)                               0.063349\n",
       "LIVING ZONE AIR TERMINAL 1 ADU:Zone Air Terminal Sensible Heating Rate [W](TimeStep)          0.064015\n",
       "FURNACEAC1 FURNACE WITH DX COOLING:Unitary System Compressor Part Load Ratio [](TimeStep)     0.089283\n",
       "FURNACEAC1 COOLING COIL:Cooling Coil Runtime Fraction [](TimeStep)                            0.089305\n",
       "FURNACEAC2 COOLING COIL:Cooling Coil Runtime Fraction [](TimeStep)                            0.089379\n",
       "FURNACEAC2 FURNACE WITH DX COOLING:Unitary System Compressor Part Load Ratio [](TimeStep)     0.089396\n",
       "FURNACEAC2 COOLING COIL:Cooling Coil Total Cooling Rate [W](TimeStep)                         0.101228\n",
       "FURNACEAC1 COOLING COIL:Cooling Coil Total Cooling Rate [W](TimeStep)                         0.101362\n",
       "FURNACEAC1 COOLING COIL:Cooling Coil Sensible Cooling Rate [W](TimeStep)                      0.101957\n",
       "FURNACEAC2 COOLING COIL:Cooling Coil Sensible Cooling Rate [W](TimeStep)                      0.102480\n",
       "LIVING ZONE AIR TERMINAL 2 ADU:Zone Air Terminal Sensible Cooling Rate [W](TimeStep)          0.103314\n",
       "LIVING ZONE:Zone Air System Sensible Cooling Rate [W](TimeStep)                               0.104151\n",
       "LIVING ZONE AIR TERMINAL 1 ADU:Zone Air Terminal Sensible Cooling Rate [W](TimeStep)          0.105241\n",
       "FURNACEAC2 COOLING COIL:Cooling Coil Electricity Rate [W](TimeStep)                           0.111725\n",
       "FURNACEAC1 COOLING COIL:Cooling Coil Electricity Rate [W](TimeStep)                           0.111779\n",
       "LIVING ZONE:Zone Electric Equipment Electricity Rate [W](TimeStep)                            0.116441\n",
       "Environment:Site Direct Solar Radiation Rate per Area [W/m2](TimeStep)                        0.131397\n",
       "FURNACEAC2 SUPPLY FAN:Fan Electricity Rate [W](TimeStep)                                      0.133929\n",
       "FURNACEAC2 FURNACE WITH DX COOLING:Unitary System Fan Part Load Ratio [](TimeStep)            0.133963\n",
       "FURNACEAC2 SUPPLY FAN:Fan Air Mass Flow Rate [kg/s](TimeStep)                                 0.133963\n",
       "FURNACEAC1 SUPPLY FAN:Fan Air Mass Flow Rate [kg/s](TimeStep)                                 0.134305\n",
       "FURNACEAC1 FURNACE WITH DX COOLING:Unitary System Fan Part Load Ratio [](TimeStep)            0.134305\n",
       "FURNACEAC1 SUPPLY FAN:Fan Electricity Rate [W](TimeStep)                                      0.134345\n",
       "LIVING ZONE:Zone Thermostat Heating Setpoint Temperature [C](TimeStep)                        0.166424\n",
       "Environment:Site Ground Temperature [C](TimeStep)                                             0.388637\n",
       "LIVING ZONE:Zone Air Humidity Ratio [](TimeStep)                                              0.398655\n",
       "GARAGE ZONE:Zone Air Humidity Ratio [](TimeStep)                                              0.426583\n",
       "ATTIC ZONE:Zone Air Humidity Ratio [](TimeStep)                                               0.448082\n",
       "ATTIC ZONE:Zone Air Temperature [C](TimeStep)                                                 0.477950\n",
       "Environment:Site Outdoor Air Drybulb Temperature [C](TimeStep)                                0.506157\n",
       "GARAGE ZONE:Zone Air Temperature [C](TimeStep)                                                0.529859\n",
       "LIVING ZONE:Zone Air Temperature [C](TimeStep)                                                1.000000\n",
       "Name: LIVING ZONE:Zone Air Temperature [C](TimeStep), dtype: float64"
      ]
     },
     "execution_count": 4,
     "metadata": {},
     "output_type": "execute_result"
    }
   ],
   "source": [
    "# For a particular feature, we can see the correlation with other features\n",
    "idx = 10\n",
    "print('Correlation For:', cols[idx])\n",
    "((data.corr())[cols[idx]]).sort_values()"
   ]
  },
  {
   "cell_type": "code",
   "execution_count": null,
   "metadata": {},
   "outputs": [],
   "source": []
  }
 ],
 "metadata": {
  "kernelspec": {
   "display_name": "cuttingedge",
   "language": "python",
   "name": "python3"
  },
  "language_info": {
   "codemirror_mode": {
    "name": "ipython",
    "version": 3
   },
   "file_extension": ".py",
   "mimetype": "text/x-python",
   "name": "python",
   "nbconvert_exporter": "python",
   "pygments_lexer": "ipython3",
   "version": "3.9.13"
  },
  "orig_nbformat": 4,
  "vscode": {
   "interpreter": {
    "hash": "4de6a45db83da0b758db7d08be5de2783b8b59abffac295330c3911b6a615d7b"
   }
  }
 },
 "nbformat": 4,
 "nbformat_minor": 2
}
