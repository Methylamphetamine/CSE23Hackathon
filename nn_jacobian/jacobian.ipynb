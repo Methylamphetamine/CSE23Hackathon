{
 "cells": [
  {
   "cell_type": "code",
   "execution_count": 1,
   "metadata": {},
   "outputs": [],
   "source": [
    "import os \n",
    "os.environ['CUDA_VISIBLE_DEVICES']=\"-1\"\n",
    "os.environ['XLA_PYTHON_CLIENT_PREALLOCATE'] = \"false\"\n"
   ]
  },
  {
   "cell_type": "code",
   "execution_count": 2,
   "metadata": {},
   "outputs": [],
   "source": [
    "import numpy as np\n",
    "import math\n",
    "from functools import partial\n",
    "import pickle"
   ]
  },
  {
   "cell_type": "code",
   "execution_count": 3,
   "metadata": {},
   "outputs": [],
   "source": [
    "#44, 256, 256, 1"
   ]
  },
  {
   "cell_type": "code",
   "execution_count": 10,
   "metadata": {},
   "outputs": [],
   "source": [
    "def SIREN(x, params):\n",
    "    weights1, weights2, weights3, mu_x, var_x, mu_t, var_t = params\n",
    "    x = (x - mu_x) / var_x\n",
    "\n",
    "    def forward(x, weights):\n",
    "\n",
    "\n",
    "        W1 = weights['params']['layers_0']['kernel']\n",
    "        b1 = weights['params']['layers_0']['bias']\n",
    "\n",
    "        W2 = weights['params']['layers_1']['kernel']\n",
    "        b2 = weights['params']['layers_1']['bias']\n",
    "\n",
    "        W3 = weights['params']['layers_2']['kernel']\n",
    "        b3 = weights['params']['layers_2']['bias']\n",
    "\n",
    "\n",
    "        return np.sin(np.sin(x @ W1 + b1) @ W2 + b2) @ W3 + b3\n",
    "\n",
    "\n",
    "    \n",
    "    outputs = []\n",
    "\n",
    "    for wbs in [weights1, weights2, weights3]:\n",
    "        outputs.append(forward(x, wbs))\n",
    "\n",
    "    outputs = np.concatenate(outputs, -1)\n",
    "    return outputs * var_t + mu_t\n",
    "\n",
    "\n"
   ]
  },
  {
   "cell_type": "code",
   "execution_count": 11,
   "metadata": {},
   "outputs": [],
   "source": [
    "# models = np.load('../model.pkl', allow_pickle=True)\n",
    "models = pickle.load(open('../model.pkl', 'rb'))"
   ]
  },
  {
   "cell_type": "code",
   "execution_count": 12,
   "metadata": {},
   "outputs": [
    {
     "data": {
      "text/plain": [
       "array([[22.92191092, 16.64191224, 33.47330288]])"
      ]
     },
     "execution_count": 12,
     "metadata": {},
     "output_type": "execute_result"
    }
   ],
   "source": [
    "forward_fn = partial(SIREN, params = models)\n",
    "x = np.ones((1, 44,))\n",
    "y = forward_fn(x)\n",
    "\n",
    "y"
   ]
  }
 ],
 "metadata": {
  "kernelspec": {
   "display_name": "base",
   "language": "python",
   "name": "python3"
  },
  "language_info": {
   "codemirror_mode": {
    "name": "ipython",
    "version": 3
   },
   "file_extension": ".py",
   "mimetype": "text/x-python",
   "name": "python",
   "nbconvert_exporter": "python",
   "pygments_lexer": "ipython3",
   "version": "3.8.12"
  },
  "orig_nbformat": 4,
  "vscode": {
   "interpreter": {
    "hash": "bc73c08c08b28324d47b08934e8a26e2609746fac2bfddffb204fa2365c6c334"
   }
  }
 },
 "nbformat": 4,
 "nbformat_minor": 2
}
