{
 "cells": [
  {
   "cell_type": "code",
   "execution_count": 1,
   "metadata": {},
   "outputs": [],
   "source": [
    "import os \n",
    "os.environ['CUDA_VISIBLE_DEVICES']=\"-1\"\n",
    "os.environ['XLA_PYTHON_CLIENT_PREALLOCATE'] = \"false\"\n"
   ]
  },
  {
   "cell_type": "code",
   "execution_count": 2,
   "metadata": {},
   "outputs": [],
   "source": [
    "import numpy as np\n",
    "import math\n",
    "from functools import partial\n",
    "import pickle\n",
    "\n",
    "from jax import tree_map"
   ]
  },
  {
   "cell_type": "code",
   "execution_count": 3,
   "metadata": {},
   "outputs": [],
   "source": [
    "#44, 256, 256, 1"
   ]
  },
  {
   "cell_type": "code",
   "execution_count": 4,
   "metadata": {},
   "outputs": [],
   "source": [
    "def SIREN(x, params):\n",
    "    weights1, weights2, weights3, mu_x, var_x, mu_t, var_t = params\n",
    "    x = (x - mu_x) / var_x\n",
    "\n",
    "    def forward(x, weights):\n",
    "\n",
    "        weights = weights['params']\n",
    "\n",
    "        for key in list(weights.keys())[:-1]:\n",
    "            x = x@weights[key]['kernel'] + weights[key]['bias']\n",
    "            x = np.sin(x)\n",
    "\n",
    "        key = list(weights.keys())[-1]\n",
    "        x = x@weights[key]['kernel'] + weights[key]['bias']\n",
    "        return x\n",
    "    \n",
    "    outputs = []\n",
    "\n",
    "    for wbs in [weights1, weights2, weights3]:\n",
    "        outputs.append(forward(x, wbs))\n",
    "\n",
    "    outputs = np.concatenate(outputs, -1)\n",
    "    return outputs * var_t + mu_t\n"
   ]
  },
  {
   "cell_type": "code",
   "execution_count": 5,
   "metadata": {},
   "outputs": [
    {
     "name": "stderr",
     "output_type": "stream",
     "text": [
      "/scratch/wangh19/anaconda3/lib/python3.8/site-packages/numpy/lib/npyio.py:528: VisibleDeprecationWarning: Creating an ndarray from ragged nested sequences (which is a list-or-tuple of lists-or-tuples-or ndarrays with different lengths or shapes) is deprecated. If you meant to do this, you must specify 'dtype=object' when creating the ndarray.\n",
      "  arr = np.asanyarray(arr)\n"
     ]
    }
   ],
   "source": [
    "# models = np.load('../model.pkl', allow_pickle=True)\n",
    "models = pickle.load(open('../jax_pinn.pkl', 'rb'))\n",
    "models = tree_map(lambda x : np.array(x), models)\n",
    "np.save('../jax_pinns/jax_pinn_model', models, allow_pickle=True)"
   ]
  },
  {
   "cell_type": "code",
   "execution_count": 6,
   "metadata": {},
   "outputs": [
    {
     "data": {
      "text/plain": [
       "array([[25.84501881,  7.87353072, 13.04773458]])"
      ]
     },
     "execution_count": 6,
     "metadata": {},
     "output_type": "execute_result"
    }
   ],
   "source": [
    "forward_fn = partial(SIREN, params = models)\n",
    "x = np.ones((1, 13,))\n",
    "y = forward_fn(x)\n",
    "\n",
    "y"
   ]
  }
 ],
 "metadata": {
  "kernelspec": {
   "display_name": "base",
   "language": "python",
   "name": "python3"
  },
  "language_info": {
   "codemirror_mode": {
    "name": "ipython",
    "version": 3
   },
   "file_extension": ".py",
   "mimetype": "text/x-python",
   "name": "python",
   "nbconvert_exporter": "python",
   "pygments_lexer": "ipython3",
   "version": "3.8.12"
  },
  "orig_nbformat": 4,
  "vscode": {
   "interpreter": {
    "hash": "bc73c08c08b28324d47b08934e8a26e2609746fac2bfddffb204fa2365c6c334"
   }
  }
 },
 "nbformat": 4,
 "nbformat_minor": 2
}
