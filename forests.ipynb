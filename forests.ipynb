{
 "cells": [
  {
   "cell_type": "code",
   "execution_count": 1,
   "metadata": {},
   "outputs": [
    {
     "name": "stderr",
     "output_type": "stream",
     "text": [
      "2023-02-25 15:26:21.294920: I tensorflow/core/platform/cpu_feature_guard.cc:193] This TensorFlow binary is optimized with oneAPI Deep Neural Network Library (oneDNN) to use the following CPU instructions in performance-critical operations:  AVX2 FMA\n",
      "To enable them in other operations, rebuild TensorFlow with the appropriate compiler flags.\n",
      "2023-02-25 15:26:22.119153: W tensorflow/compiler/xla/stream_executor/platform/default/dso_loader.cc:64] Could not load dynamic library 'libnvinfer.so.7'; dlerror: libnvinfer.so.7: cannot open shared object file: No such file or directory; LD_LIBRARY_PATH: /scratch/shyamss/boost_1_76_0/stage/lib:/scratch/shyamss/fftw/lib::/scratch/shyamss/openmpi-4.1.1/install/lib64:/scratch/shyamss/petsc-3.15.1/arch-linux-c-debug/lib:/usr/local/cuda/lib64:/scratch/shyamss/anaconda3/lib\n",
      "2023-02-25 15:26:22.119276: W tensorflow/compiler/xla/stream_executor/platform/default/dso_loader.cc:64] Could not load dynamic library 'libnvinfer_plugin.so.7'; dlerror: libnvinfer_plugin.so.7: cannot open shared object file: No such file or directory; LD_LIBRARY_PATH: /scratch/shyamss/boost_1_76_0/stage/lib:/scratch/shyamss/fftw/lib::/scratch/shyamss/openmpi-4.1.1/install/lib64:/scratch/shyamss/petsc-3.15.1/arch-linux-c-debug/lib:/usr/local/cuda/lib64:/scratch/shyamss/anaconda3/lib\n",
      "2023-02-25 15:26:22.119282: W tensorflow/compiler/tf2tensorrt/utils/py_utils.cc:38] TF-TRT Warning: Cannot dlopen some TensorRT libraries. If you would like to use Nvidia GPU with TensorRT, please make sure the missing libraries mentioned above are installed properly.\n"
     ]
    }
   ],
   "source": [
    "import pylab as plt\n",
    "import seaborn as sns\n",
    "import pandas as pd\n",
    "import numpy as np\n",
    "from process_data import process_data\n",
    "\n",
    "from scipy.stats import randint as sp_randint\n",
    "from catboost import CatBoostRegressor\n",
    "from sklearn.model_selection import GridSearchCV\n",
    "from keras.layers import Dense\n",
    "from keras.models import Sequential\n",
    "from sklearn.tree import DecisionTreeRegressor\n",
    "from sklearn.neighbors import KNeighborsRegressor\n",
    "from sklearn.neural_network import MLPRegressor\n",
    "from sklearn.ensemble import GradientBoostingRegressor,AdaBoostRegressor,BaggingRegressor, RandomForestRegressor\n",
    "from sklearn.model_selection import GridSearchCV\n",
    "from sklearn.model_selection import train_test_split\n",
    "from sklearn.multioutput import MultiOutputRegressor\n",
    "from sklearn.preprocessing import MinMaxScaler\n",
    "from sklearn.svm import SVC\n",
    "from sklearn.svm import SVR\n",
    "from sklearn.metrics import accuracy_score, f1_score\n",
    "from sklearn.metrics import r2_score\n",
    "from sklearn.metrics import roc_auc_score"
   ]
  },
  {
   "cell_type": "code",
   "execution_count": 2,
   "metadata": {},
   "outputs": [
    {
     "name": "stderr",
     "output_type": "stream",
     "text": [
      "/scratch/shyamss/git_repos/CSE23Hackathon/process_data.py:9: DtypeWarning: Columns (10,14,20,22,35,36,37,38,39,40,41,42,43,44,46,48) have mixed types. Specify dtype option on import or set low_memory=False.\n",
      "  data = pd.read_csv(filename)\n"
     ]
    }
   ],
   "source": [
    "# Returns the columnn names and the data\n",
    "cols, data = process_data(\"bld1.csv\")"
   ]
  },
  {
   "cell_type": "code",
   "execution_count": 3,
   "metadata": {},
   "outputs": [],
   "source": [
    "# find indices at which the column names contain 'Zone Air Temperature'\n",
    "# we want to make these what we're predicting.\n",
    "# the rest is just inputs to our model\n",
    "idx_temperature = np.array(['Zone Air Temperature' in col for col in cols])"
   ]
  },
  {
   "cell_type": "code",
   "execution_count": 4,
   "metadata": {},
   "outputs": [],
   "source": [
    "X = data[cols[~idx_temperature]]\n",
    "y = data[cols[idx_temperature]]\n",
    "from sklearn.preprocessing import MinMaxScaler\n",
    "\n",
    "y1 = y.iloc[:,0:1]\n",
    "y2 = y.iloc[:,1:2]\n",
    "y3 = y.iloc[:,2:3]"
   ]
  },
  {
   "cell_type": "code",
   "execution_count": 5,
   "metadata": {},
   "outputs": [],
   "source": [
    "# Split the data into training and testing sets\n",
    "X_train, X_test, y1_train, y1_test, y2_train, y2_test, y3_train, y3_test = train_test_split(X, y1, y2, y3, test_size=0.2, random_state = 20) \n",
    "\n",
    "MinMax = MinMaxScaler(feature_range= (0,1))\n",
    "X_train = MinMax.fit_transform(X_train)\n",
    "X_test = MinMax.transform(X_test)"
   ]
  },
  {
   "cell_type": "code",
   "execution_count": 6,
   "metadata": {},
   "outputs": [],
   "source": [
    "Acc = pd.DataFrame(index=None, columns=['model','train_Living','test_Living',\n",
    "                                        'train_Garage','test_Garage',\n",
    "                                        'train_Attic, test_Attic'])"
   ]
  },
  {
   "cell_type": "code",
   "execution_count": 7,
   "metadata": {},
   "outputs": [],
   "source": [
    "regressors = [['DecisionTreeRegressor',DecisionTreeRegressor()],\n",
    "              ['RandomForestRegressor', RandomForestRegressor()]]"
   ]
  },
  {
   "cell_type": "code",
   "execution_count": 8,
   "metadata": {},
   "outputs": [
    {
     "name": "stdout",
     "output_type": "stream",
     "text": [
      "0\n"
     ]
    },
    {
     "name": "stderr",
     "output_type": "stream",
     "text": [
      "/tmp/ipykernel_28508/1728641493.py:18: FutureWarning: The frame.append method is deprecated and will be removed from pandas in a future version. Use pandas.concat instead.\n",
      "  Acc = Acc.append(pd.Series({'model':name,\n",
      "/tmp/ipykernel_28508/1728641493.py:6: DataConversionWarning: A column-vector y was passed when a 1d array was expected. Please change the shape of y to (n_samples,), for example using ravel().\n",
      "  model.fit(X_train,y1_train)\n"
     ]
    },
    {
     "name": "stdout",
     "output_type": "stream",
     "text": [
      "0\n"
     ]
    },
    {
     "name": "stderr",
     "output_type": "stream",
     "text": [
      "/tmp/ipykernel_28508/1728641493.py:10: DataConversionWarning: A column-vector y was passed when a 1d array was expected. Please change the shape of y to (n_samples,), for example using ravel().\n",
      "  model.fit(X_train,y2_train)\n",
      "/tmp/ipykernel_28508/1728641493.py:14: DataConversionWarning: A column-vector y was passed when a 1d array was expected. Please change the shape of y to (n_samples,), for example using ravel().\n",
      "  model.fit(X_train,y3_train)\n",
      "/tmp/ipykernel_28508/1728641493.py:18: FutureWarning: The frame.append method is deprecated and will be removed from pandas in a future version. Use pandas.concat instead.\n",
      "  Acc = Acc.append(pd.Series({'model':name,\n"
     ]
    }
   ],
   "source": [
    "for mod in regressors:\n",
    "    name = mod[0]\n",
    "    model = mod[1]\n",
    "    \n",
    "    model.fit(X_train,y1_train)\n",
    "    actr1 = r2_score(y1_train, model.predict(X_train))\n",
    "    acte1 = r2_score(y1_test, model.predict(X_test))\n",
    "    \n",
    "    model.fit(X_train,y2_train)\n",
    "    actr2 = r2_score(y2_train, model.predict(X_train))\n",
    "    acte2 = r2_score(y2_test, model.predict(X_test))\n",
    "\n",
    "    model.fit(X_train,y3_train)\n",
    "    actr3 = r2_score(y3_train, model.predict(X_train))\n",
    "    acte3 = r2_score(y3_test, model.predict(X_test))\n",
    "    \n",
    "    Acc = Acc.append(pd.Series({'model':name, \n",
    "                                'train_Living':actr1,'test_Living':acte1,\n",
    "                                'train_Garage':actr2,'test_Garage':acte2,\n",
    "                                'train_Attic':actr3,'test_Attic':acte3}),ignore_index=True )"
   ]
  },
  {
   "cell_type": "code",
   "execution_count": 9,
   "metadata": {},
   "outputs": [
    {
     "data": {
      "text/html": [
       "<div>\n",
       "<style scoped>\n",
       "    .dataframe tbody tr th:only-of-type {\n",
       "        vertical-align: middle;\n",
       "    }\n",
       "\n",
       "    .dataframe tbody tr th {\n",
       "        vertical-align: top;\n",
       "    }\n",
       "\n",
       "    .dataframe thead th {\n",
       "        text-align: right;\n",
       "    }\n",
       "</style>\n",
       "<table border=\"1\" class=\"dataframe\">\n",
       "  <thead>\n",
       "    <tr style=\"text-align: right;\">\n",
       "      <th></th>\n",
       "      <th>model</th>\n",
       "      <th>train_Living</th>\n",
       "      <th>test_Living</th>\n",
       "      <th>train_Garage</th>\n",
       "      <th>test_Garage</th>\n",
       "      <th>train_Attic, test_Attic</th>\n",
       "      <th>test_Attic</th>\n",
       "      <th>train_Attic</th>\n",
       "    </tr>\n",
       "  </thead>\n",
       "  <tbody>\n",
       "    <tr>\n",
       "      <th>0</th>\n",
       "      <td>DecisionTreeRegressor</td>\n",
       "      <td>0.999978</td>\n",
       "      <td>0.982486</td>\n",
       "      <td>0.999999</td>\n",
       "      <td>0.995937</td>\n",
       "      <td>NaN</td>\n",
       "      <td>0.987320</td>\n",
       "      <td>0.999999</td>\n",
       "    </tr>\n",
       "    <tr>\n",
       "      <th>1</th>\n",
       "      <td>RandomForestRegressor</td>\n",
       "      <td>0.998562</td>\n",
       "      <td>0.991276</td>\n",
       "      <td>0.999774</td>\n",
       "      <td>0.998498</td>\n",
       "      <td>NaN</td>\n",
       "      <td>0.995943</td>\n",
       "      <td>0.999360</td>\n",
       "    </tr>\n",
       "  </tbody>\n",
       "</table>\n",
       "</div>"
      ],
      "text/plain": [
       "                   model  train_Living  test_Living  train_Garage  \\\n",
       "0  DecisionTreeRegressor      0.999978     0.982486      0.999999   \n",
       "1  RandomForestRegressor      0.998562     0.991276      0.999774   \n",
       "\n",
       "   test_Garage train_Attic, test_Attic  test_Attic  train_Attic  \n",
       "0     0.995937                     NaN    0.987320     0.999999  \n",
       "1     0.998498                     NaN    0.995943     0.999360  "
      ]
     },
     "execution_count": 9,
     "metadata": {},
     "output_type": "execute_result"
    }
   ],
   "source": [
    "Acc"
   ]
  },
  {
   "cell_type": "code",
   "execution_count": null,
   "metadata": {},
   "outputs": [],
   "source": []
  }
 ],
 "metadata": {
  "kernelspec": {
   "display_name": "cuttingedge",
   "language": "python",
   "name": "python3"
  },
  "language_info": {
   "codemirror_mode": {
    "name": "ipython",
    "version": 3
   },
   "file_extension": ".py",
   "mimetype": "text/x-python",
   "name": "python",
   "nbconvert_exporter": "python",
   "pygments_lexer": "ipython3",
   "version": "3.9.13"
  },
  "orig_nbformat": 4,
  "vscode": {
   "interpreter": {
    "hash": "4de6a45db83da0b758db7d08be5de2783b8b59abffac295330c3911b6a615d7b"
   }
  }
 },
 "nbformat": 4,
 "nbformat_minor": 2
}
