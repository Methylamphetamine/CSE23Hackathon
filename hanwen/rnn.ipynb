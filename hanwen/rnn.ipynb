{
 "cells": [
  {
   "cell_type": "code",
   "execution_count": 1,
   "metadata": {},
   "outputs": [],
   "source": [
    "import os\n",
    "os.environ['CUDA_VISIBLE_DEVICES'] = \"0\"\n",
    "os.environ['XLA_PYTHON_CLIENT_PREALLOCATE'] = \"false\""
   ]
  },
  {
   "cell_type": "code",
   "execution_count": 2,
   "metadata": {},
   "outputs": [],
   "source": [
    "import os\n",
    "import sys\n",
    "import inspect\n",
    "\n",
    "\n",
    "parentdir = os.path.dirname('../')\n",
    "sys.path.insert(0, parentdir)\n",
    "\n",
    "\n"
   ]
  },
  {
   "cell_type": "code",
   "execution_count": 3,
   "metadata": {},
   "outputs": [],
   "source": [
    "import torch\n",
    "from torch import nn\n",
    "import numpy as onp\n",
    "from tqdm import trange, tqdm\n",
    "from IPython.display import clear_output"
   ]
  },
  {
   "cell_type": "code",
   "execution_count": 4,
   "metadata": {},
   "outputs": [],
   "source": [
    "from process_data import process_data"
   ]
  },
  {
   "cell_type": "code",
   "execution_count": 5,
   "metadata": {},
   "outputs": [],
   "source": [
    "from jax import random, jit, vmap, numpy as jnp\n",
    "import jax\n",
    "from flax.training import train_state, checkpoints\n",
    "\n",
    "from torch.utils.data import Dataset, DataLoader, random_split\n",
    "from flax import linen as nn\n",
    "\n",
    "import optax\n",
    "\n",
    "from typing import Sequence"
   ]
  },
  {
   "cell_type": "code",
   "execution_count": 6,
   "metadata": {},
   "outputs": [
    {
     "name": "stderr",
     "output_type": "stream",
     "text": [
      "/scratch/wangh19/CSE23Hackathon/hanwen/../process_data.py:9: DtypeWarning: Columns (10,14,20,22,35,36,37,38,39,40,41,42,43,44,46,48) have mixed types. Specify dtype option on import or set low_memory=False.\n",
      "  data = pd.read_csv(filename)\n"
     ]
    }
   ],
   "source": [
    "cols, data = process_data('../bld1.csv', exclude_settemp=True)\n",
    "idx_temperature = onp.array(['Zone Air Temperature'in col for col in cols])\n",
    "idx_predictive = onp.array(['Zone Air Temperature' in col or 'Zone Air Humidity Ratio' in col for col in cols])\n",
    "\n",
    "Y = data[cols[idx_temperature]]\n",
    "# X = data[cols[~idx_temperature]]\n",
    "X = data"
   ]
  },
  {
   "cell_type": "code",
   "execution_count": 7,
   "metadata": {},
   "outputs": [],
   "source": [
    "class TimeSeriesDataset(Dataset):\n",
    "    def __init__(self, X, Y, lags):\n",
    "        self.X = X\n",
    "        self.Y = Y\n",
    "        self.lags = lags\n",
    "\n",
    "    def __getitem__(self, index):\n",
    "        return self.X[index:(index+self.lags)], self.Y[(index+self.lags)] \n",
    "\n",
    "\n",
    "    def __len__(self):\n",
    "        return self.X.shape[0]-self.lags-1\n"
   ]
  },
  {
   "cell_type": "code",
   "execution_count": 8,
   "metadata": {},
   "outputs": [],
   "source": [
    "batch_size = 128\n",
    "lags = 5\n",
    "dataset = TimeSeriesDataset(onp.array(X), onp.array(Y), lags)\n",
    "train_dataset, test_dataset, validation_dataset = random_split(dataset, [0.89, 0.1, 0.01], generator=torch.Generator().manual_seed(0))\n",
    "train_loader = DataLoader(train_dataset, batch_size=batch_size, shuffle=True, num_workers=batch_size//4)"
   ]
  },
  {
   "cell_type": "code",
   "execution_count": 9,
   "metadata": {},
   "outputs": [],
   "source": [
    "for batch in train_loader:\n",
    "    batch = [jnp.array(f) for f in batch]\n",
    "    X_lags, y_target = batch\n",
    "    break"
   ]
  },
  {
   "cell_type": "code",
   "execution_count": 10,
   "metadata": {},
   "outputs": [],
   "source": [
    "hidden_size = 512\n",
    "key = random.PRNGKey(0)\n",
    "class LSTMScan(nn.Module):\n",
    "  out_dim : int\n",
    "  @nn.compact\n",
    "  def __call__(self, c, xs):\n",
    "    LSTM = nn.scan(nn.OptimizedLSTMCell,\n",
    "                   variable_broadcast=\"params\",\n",
    "                   split_rngs={\"params\": False},\n",
    "                   in_axes=1,\n",
    "                   out_axes=1)\n",
    "    out_carry, out_val = LSTM()(c, xs)\n",
    "    return out_carry, nn.Dense(self.out_dim)(out_val[:,-1])\n",
    "\n",
    "\n",
    "key_1, key_2, key_3, key = random.split(key, 4)\n",
    "\n",
    "xs = random.uniform(key_1, (batch_size, 2, X_lags.shape[-1]))\n",
    "init_carry = nn.OptimizedLSTMCell.initialize_carry(key_2, (batch_size,), hidden_size)\n",
    "\n",
    "net = LSTMScan(y_target.shape[-1])\n",
    "params = net.init(key_3, init_carry, xs)\n",
    "out_carry, out_val = net.apply(params, init_carry, xs)"
   ]
  },
  {
   "cell_type": "code",
   "execution_count": 11,
   "metadata": {},
   "outputs": [],
   "source": [
    "hidden_size = 512\n",
    "key = random.PRNGKey(0)\n",
    "class LSTMScan(nn.Module):\n",
    "  out_dim : int\n",
    "  @nn.compact\n",
    "  def __call__(self, c, xs):\n",
    "    LSTM = nn.scan(nn.OptimizedLSTMCell,\n",
    "                   variable_broadcast=\"params\",\n",
    "                   split_rngs={\"params\": False},\n",
    "                   in_axes=1,\n",
    "                   out_axes=1)\n",
    "    out_carry, out_val = LSTM(jax.nn.gelu)(c, xs)\n",
    "    return out_carry, nn.Dense(self.out_dim)(out_val[:,-1])\n",
    "\n",
    "\n",
    "key_1, key_2, key_3, key = random.split(key, 4)\n",
    "\n",
    "xs = random.uniform(key_1, (batch_size, 2, X_lags.shape[-1]))\n",
    "init_carry = nn.OptimizedLSTMCell.initialize_carry(key_2, (batch_size,), hidden_size)\n",
    "\n",
    "net = LSTMScan(y_target.shape[-1])\n",
    "params = net.init(key_3, init_carry, xs)\n",
    "out_carry, out_val = net.apply(params, init_carry, xs)"
   ]
  },
  {
   "cell_type": "code",
   "execution_count": 12,
   "metadata": {},
   "outputs": [],
   "source": [
    "@jit\n",
    "def train_step(state, batch, carry_key = random.PRNGKey(0)):\n",
    "  sequence, targets = batch\n",
    "  def loss_fn(params):\n",
    "    init_carry = nn.OptimizedLSTMCell.initialize_carry(carry_key, (sequence.shape[0],), hidden_size)\n",
    "    out_carry, out_val = state.apply_fn(params, init_carry, sequence)\n",
    "    loss = ((out_val - targets)**2).mean() \n",
    "    return loss\n",
    "  grad_fn = jax.value_and_grad(loss_fn, has_aux=False)\n",
    "  loss, grads = grad_fn(state.params)\n",
    "  state = state.apply_gradients(grads=grads)\n",
    "  return state, loss\n",
    "\n",
    "@jit\n",
    "def prediction(state, sequence, carry_key = random.PRNGKey(0)):\n",
    "    init_carry = nn.OptimizedLSTMCell.initialize_carry(carry_key, (sequence.shape[0],), hidden_size)\n",
    "    out_carry, out_val = state.apply_fn(params, init_carry, sequence)\n",
    "\n",
    "    return out_carry, out_val\n"
   ]
  },
  {
   "cell_type": "code",
   "execution_count": 13,
   "metadata": {},
   "outputs": [],
   "source": [
    "optimizer = optax.adam(learning_rate=1e-3)\n",
    "state = train_state.TrainState.create(\n",
    "  apply_fn=net.apply,\n",
    "  params=params,\n",
    "  tx=optimizer\n",
    ")"
   ]
  },
  {
   "cell_type": "code",
   "execution_count": 14,
   "metadata": {},
   "outputs": [
    {
     "name": "stderr",
     "output_type": "stream",
     "text": [
      "100%|██████████| 366/366 [00:07<00:00, 52.02it/s, epoch=99, loss=56.5]\n"
     ]
    }
   ],
   "source": [
    "for e in range(100):\n",
    "    clear_output(wait = True)\n",
    "    pbar = tqdm(train_loader)\n",
    "    for k, batch in enumerate(pbar):\n",
    "        \n",
    "        batch = [jnp.array(f) for f in batch]\n",
    "        state, loss = train_step(state, batch)\n",
    "        \n",
    "        if k % 100 == 0:\n",
    "            pbar.set_postfix(dict(epoch = e, loss = loss.item()))"
   ]
  },
  {
   "cell_type": "code",
   "execution_count": 15,
   "metadata": {},
   "outputs": [
    {
     "name": "stderr",
     "output_type": "stream",
     "text": [
      "100%|██████████| 366/366 [00:07<00:00, 48.68it/s]\n"
     ]
    }
   ],
   "source": [
    "test_loader = DataLoader(train_dataset, batch_size=batch_size, shuffle=True, num_workers=batch_size//4)\n",
    "pbar = tqdm(train_loader)\n",
    "\n",
    "predictions = []\n",
    "targets = []\n",
    "for k, batch in enumerate(pbar):\n",
    "\n",
    "    batch = [jnp.array(f) for f in batch]\n",
    "    sequence, target = batch\n",
    "    _, pred = prediction(state, sequence)\n",
    "\n",
    "    predictions.append(pred)\n",
    "    targets.append(target)\n",
    "\n"
   ]
  },
  {
   "cell_type": "code",
   "execution_count": 16,
   "metadata": {},
   "outputs": [
    {
     "name": "stdout",
     "output_type": "stream",
     "text": [
      "25.008684\n"
     ]
    }
   ],
   "source": [
    "predictions = jnp.concatenate(predictions, 0)\n",
    "targets = jnp.concatenate(targets, 0)\n",
    "\n",
    "print(jnp.linalg.norm(predictions - targets) / jnp.linalg.norm(targets))"
   ]
  },
  {
   "cell_type": "code",
   "execution_count": 17,
   "metadata": {},
   "outputs": [
    {
     "data": {
      "image/png": "[encoded data removed]",
      "text/plain": [
       "<Figure size 640x480 with 1 Axes>"
      ]
     },
     "metadata": {},
     "output_type": "display_data"
    }
   ],
   "source": [
    "from matplotlib import pyplot as plt\n",
    "\n",
    "plt.figure()\n",
    "plt.plot(jnp.array(Y)[:,0])\n",
    "plt.show()\n",
    "plt.close()"
   ]
  }
 ],
 "metadata": {
  "kernelspec": {
   "display_name": "base",
   "language": "python",
   "name": "python3"
  },
  "language_info": {
   "codemirror_mode": {
    "name": "ipython",
    "version": 3
   },
   "file_extension": ".py",
   "mimetype": "text/x-python",
   "name": "python",
   "nbconvert_exporter": "python",
   "pygments_lexer": "ipython3",
   "version": "3.8.12"
  },
  "orig_nbformat": 4,
  "vscode": {
   "interpreter": {
    "hash": "bc73c08c08b28324d47b08934e8a26e2609746fac2bfddffb204fa2365c6c334"
   }
  }
 },
 "nbformat": 4,
 "nbformat_minor": 2
}
