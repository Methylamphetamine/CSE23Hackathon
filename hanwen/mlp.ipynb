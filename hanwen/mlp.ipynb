{
 "cells": [
  {
   "cell_type": "code",
   "execution_count": 5,
   "metadata": {},
   "outputs": [],
   "source": [
    "import os\n",
    "import sys\n",
    "import inspect\n",
    "\n",
    "os.environ['CUDA_VISIBLE_DEVICES']='0'\n",
    "os.environ['XLA_PYTHON_CLIENT_PREALLOCATE']='false'\n",
    "\n",
    "parentdir = os.path.dirname('../')\n",
    "sys.path.insert(0, parentdir)"
   ]
  },
  {
   "cell_type": "code",
   "execution_count": 22,
   "metadata": {},
   "outputs": [],
   "source": [
    "import torch\n",
    "from torch import nn\n",
    "import numpy as onp"
   ]
  },
  {
   "cell_type": "code",
   "execution_count": 7,
   "metadata": {},
   "outputs": [],
   "source": [
    "from process_data import process_data"
   ]
  },
  {
   "cell_type": "code",
   "execution_count": 25,
   "metadata": {},
   "outputs": [
    {
     "name": "stderr",
     "output_type": "stream",
     "text": [
      "/scratch/wangh19/CSE23Hackathon/hanwen/../process_data.py:9: DtypeWarning: Columns (10,14,20,22,35,36,37,38,39,40,41,42,43,44,46,48) have mixed types. Specify dtype option on import or set low_memory=False.\n",
      "  data = pd.read_csv(filename)\n"
     ]
    }
   ],
   "source": [
    "cols, data = process_data('../bld1.csv', exclude_settemp=True)\n",
    "idx_temperature = onp.array(['Zone Air Temperature' in col for col in cols])\n",
    "\n",
    "Y = data[cols[idx_temperature]]\n",
    "X = data[cols[~idx_temperature]]"
   ]
  },
  {
   "cell_type": "code",
   "execution_count": 17,
   "metadata": {},
   "outputs": [
    {
     "data": {
      "text/plain": [
       "Index(['Environment:Site Outdoor Air Drybulb Temperature [C](TimeStep)',\n",
       "       'Environment:Site Wind Speed [m/s](TimeStep)',\n",
       "       'Environment:Site Wind Direction [deg](TimeStep)',\n",
       "       'Environment:Site Direct Solar Radiation Rate per Area [W/m2](TimeStep)',\n",
       "       'Environment:Site Ground Temperature [C](TimeStep)',\n",
       "       'Environment:Site Total Sky Cover [](TimeStep)',\n",
       "       'LIVING ZONE:Zone People Occupant Count [](TimeStep)',\n",
       "       'LIVING ZONE:Zone Electric Equipment Electricity Rate [W](TimeStep)',\n",
       "       'LIVING ZONE:Zone Air System Sensible Heating Rate [W](TimeStep)',\n",
       "       'LIVING ZONE:Zone Air System Sensible Cooling Rate [W](TimeStep)',\n",
       "       'LIVING ZONE:Zone Air Temperature [C](TimeStep)',\n",
       "       'LIVING ZONE:Zone Air Humidity Ratio [](TimeStep)',\n",
       "       'GARAGE ZONE:Zone Air Temperature [C](TimeStep)',\n",
       "       'GARAGE ZONE:Zone Air Humidity Ratio [](TimeStep)',\n",
       "       'ATTIC ZONE:Zone Air Temperature [C](TimeStep)',\n",
       "       'ATTIC ZONE:Zone Air Humidity Ratio [](TimeStep)',\n",
       "       'LIVING ZONE AIR TERMINAL 1 ADU:Zone Air Terminal Sensible Heating Rate [W](TimeStep)',\n",
       "       'LIVING ZONE AIR TERMINAL 1 ADU:Zone Air Terminal Sensible Cooling Rate [W](TimeStep)',\n",
       "       'LIVING ZONE AIR TERMINAL 2 ADU:Zone Air Terminal Sensible Heating Rate [W](TimeStep)',\n",
       "       'LIVING ZONE AIR TERMINAL 2 ADU:Zone Air Terminal Sensible Cooling Rate [W](TimeStep)',\n",
       "       'FURNACEAC1 SUPPLY FAN:Fan Electricity Rate [W](TimeStep)',\n",
       "       'FURNACEAC1 SUPPLY FAN:Fan Air Mass Flow Rate [kg/s](TimeStep)',\n",
       "       'FURNACEAC2 SUPPLY FAN:Fan Electricity Rate [W](TimeStep)',\n",
       "       'FURNACEAC2 SUPPLY FAN:Fan Air Mass Flow Rate [kg/s](TimeStep)',\n",
       "       'FURNACEAC1 HEATING COIL:Heating Coil Heating Rate [W](TimeStep)',\n",
       "       'FURNACEAC1 HEATING COIL:Heating Coil NaturalGas Rate [W](TimeStep)',\n",
       "       'FURNACEAC1 HEATING COIL:Heating Coil Runtime Fraction [](TimeStep)',\n",
       "       'FURNACEAC2 HEATING COIL:Heating Coil Heating Rate [W](TimeStep)',\n",
       "       'FURNACEAC2 HEATING COIL:Heating Coil NaturalGas Rate [W](TimeStep)',\n",
       "       'FURNACEAC2 HEATING COIL:Heating Coil Runtime Fraction [](TimeStep)',\n",
       "       'FURNACEAC1 COOLING COIL:Cooling Coil Total Cooling Rate [W](TimeStep)',\n",
       "       'FURNACEAC1 COOLING COIL:Cooling Coil Sensible Cooling Rate [W](TimeStep)',\n",
       "       'FURNACEAC1 COOLING COIL:Cooling Coil Latent Cooling Rate [W](TimeStep)',\n",
       "       'FURNACEAC1 COOLING COIL:Cooling Coil Electricity Rate [W](TimeStep)',\n",
       "       'FURNACEAC1 COOLING COIL:Cooling Coil Runtime Fraction [](TimeStep)',\n",
       "       'FURNACEAC2 COOLING COIL:Cooling Coil Total Cooling Rate [W](TimeStep)',\n",
       "       'FURNACEAC2 COOLING COIL:Cooling Coil Sensible Cooling Rate [W](TimeStep)',\n",
       "       'FURNACEAC2 COOLING COIL:Cooling Coil Latent Cooling Rate [W](TimeStep)',\n",
       "       'FURNACEAC2 COOLING COIL:Cooling Coil Electricity Rate [W](TimeStep)',\n",
       "       'FURNACEAC2 COOLING COIL:Cooling Coil Runtime Fraction [](TimeStep)',\n",
       "       'FURNACEAC1 FURNACE WITH DX COOLING:Unitary System Fan Part Load Ratio [](TimeStep)',\n",
       "       'FURNACEAC1 FURNACE WITH DX COOLING:Unitary System Compressor Part Load Ratio [](TimeStep)',\n",
       "       'FURNACEAC2 FURNACE WITH DX COOLING:Unitary System Fan Part Load Ratio [](TimeStep)',\n",
       "       'FURNACEAC2 FURNACE WITH DX COOLING:Unitary System Compressor Part Load Ratio [](TimeStep) '],\n",
       "      dtype='object')"
      ]
     },
     "execution_count": 17,
     "metadata": {},
     "output_type": "execute_result"
    }
   ],
   "source": [
    "data['']"
   ]
  }
 ],
 "metadata": {
  "kernelspec": {
   "display_name": "base",
   "language": "python",
   "name": "python3"
  },
  "language_info": {
   "codemirror_mode": {
    "name": "ipython",
    "version": 3
   },
   "file_extension": ".py",
   "mimetype": "text/x-python",
   "name": "python",
   "nbconvert_exporter": "python",
   "pygments_lexer": "ipython3",
   "version": "3.8.12"
  },
  "orig_nbformat": 4,
  "vscode": {
   "interpreter": {
    "hash": "bc73c08c08b28324d47b08934e8a26e2609746fac2bfddffb204fa2365c6c334"
   }
  }
 },
 "nbformat": 4,
 "nbformat_minor": 2
}
